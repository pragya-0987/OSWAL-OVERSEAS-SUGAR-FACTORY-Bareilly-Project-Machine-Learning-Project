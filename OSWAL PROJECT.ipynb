{
 "cells": [
  {
   "cell_type": "markdown",
   "id": "1e27caa3-4095-439e-9e39-65e013a9102a",
   "metadata": {},
   "source": [
    "### OSWAL OVERSEAS LTD. GROWERS SUGARCANE SUPPLY PREDICTION"
   ]
  },
  {
   "cell_type": "markdown",
   "id": "9a230d39-2a6f-4d2d-aaaf-470a2a585aeb",
   "metadata": {},
   "source": [
    "# Step 1 : IMPORTING IMPORTANT LIBRARIES\n",
    "#### Why we're importing these libraries:\n",
    "\n",
    "- `pandas` and `numpy` are used for data manipulation and numerical operations.\n",
    "- `matplotlib.pyplot` and `seaborn` are used for data visualization.\n",
    "- `scipy.stats.skew` helps in identifying skewness in numerical features.\n",
    "- `sklearn.metrics` provides evaluation metrics to assess model performance.\n",
    "- `warnings.filterwarnings('ignore')` is used to suppress unnecessary warnings for a cleaner output."
   ]
  },
  {
   "cell_type": "code",
   "execution_count": null,
   "id": "1a65138b-d59d-4256-8738-b745af815cb4",
   "metadata": {},
   "outputs": [],
   "source": [
    "import pandas as pd\n",
    "import numpy as np\n",
    "import matplotlib.pyplot as plt\n",
    "import seaborn as sns\n",
    "from scipy.stats import skew, kurtosis\n",
    "from statsmodels.stats.outliers_influence import variance_inflation_factor\n",
    "from sklearn.model_selection import train_test_split\n",
    "from sklearn.preprocessing import StandardScaler\n",
    "from sklearn.ensemble import RandomForestRegressor\n",
    "from sklearn.metrics import mean_squared_error, r2_score\n",
    "from sklearn.linear_model import LinearRegression\n",
    "from sklearn.tree import DecisionTreeRegressor\n",
    "from sklearn.ensemble import RandomForestRegressor\n",
    "from sklearn.neighbors import KNeighborsRegressor\n",
    "from sklearn.metrics import mean_squared_error"
   ]
  },
  {
   "cell_type": "markdown",
   "id": "57e05b21-2da9-46da-bd93-b130fa1995ac",
   "metadata": {},
   "source": [
    "# Step 2: LOAD DATASET\n",
    "#### What we are doing:\n",
    "We are reading the dataset using the `pd.read_csv()`.\n",
    "\n",
    "#### Why this is important:\n",
    "This step allows us to load the raw data into a structured format (a DataFrame), which can be easily explored and manipulated using pandas. Viewing the first few rows gives a quick preview of the data, helping us understand its structure, features, and any immediate issues (e.g., missing values or incorrect data types)."
   ]
  },
  {
   "cell_type": "code",
   "execution_count": null,
   "id": "cdc42fe2-263d-44bc-95a7-c60a2bbb5902",
   "metadata": {},
   "outputs": [],
   "source": [
    "# Reading the Excel file for Grower Performance Analysis\n",
    "df = pd.read_excel(\"GROWER_MASTER_DATA.xlsx\")\n"
   ]
  },
  {
   "cell_type": "markdown",
   "id": "cb09d25c-18f7-49c5-80de-c4d0ba067b15",
   "metadata": {},
   "source": [
    "\n",
    "## #Step 3: EXPLORATORY DATA ANALYSIS (EDA)\n",
    "####  Dataset Overview\n",
    "- Checking the first few rows with `.head()`.\n",
    "- Viewing the last few rows with `.tail()`."
   ]
  },
  {
   "cell_type": "code",
   "execution_count": null,
   "id": "b5860e5f-79bd-47f8-842a-84abfc189414",
   "metadata": {},
   "outputs": [],
   "source": [
    "# Display the first 5 rows from the top and bottom\n",
    "df.head()\n",
    "df.tail()"
   ]
  },
  {
   "cell_type": "code",
   "execution_count": null,
   "id": "810d88d9-e752-4571-8c79-3673d6d84977",
   "metadata": {},
   "outputs": [],
   "source": [
    "# Check data types and non-null counts\n",
    "df.info()\n",
    "\n"
   ]
  },
  {
   "cell_type": "code",
   "execution_count": null,
   "id": "e68abd2d-58fe-440c-a239-c86158583d5f",
   "metadata": {},
   "outputs": [],
   "source": [
    "# Get a statistical summary of numerical columns\n",
    "df.describe()"
   ]
  },
  {
   "cell_type": "code",
   "execution_count": null,
   "id": "a6068b6b-f7e9-4b66-91f2-2015f82043fa",
   "metadata": {},
   "outputs": [],
   "source": [
    "print(df.isna().sum())"
   ]
  },
  {
   "cell_type": "code",
   "execution_count": null,
   "id": "740b542a-64ae-490e-8886-2e2cbc5445ab",
   "metadata": {},
   "outputs": [],
   "source": [
    "df.columns.tolist()"
   ]
  },
  {
   "cell_type": "markdown",
   "id": "120876d5-3770-455e-a29f-33253a61416d",
   "metadata": {},
   "source": [
    "### Drop columns that are unique identifiers or not required for our analysis"
   ]
  },
  {
   "cell_type": "code",
   "execution_count": null,
   "id": "4b384a98-508d-4ae0-b824-5ed28b632818",
   "metadata": {},
   "outputs": [],
   "source": [
    "columns_to_drop = [\n",
    "    'Village_Code', 'Village_Name', 'Grower_Code', 'Grower_Father', 'Grower_Name',\n",
    "    'UGC', 'Grower_Bank', 'Bank_Name', 'IFSC', 'GrowerLock', 'LockDesc', 'PaymentLock',\n",
    "    'PayLockDesc', 'VillageLock', 'GrowerBond', 'BasicQuota', 'MemberType',\n",
    "    'Standing Bond', 'PaidAmount', 'BalanceAmount'\n",
    "]\n",
    "\n",
    "# We will drop the 'Village_Name' and 'MemberType' columns as they have high cardinality\n",
    "# and might not be the most effective features after one-hot encoding.\n",
    "# We will use 'Mode_Name' and 'Category' instead.\n",
    "\n",
    "df_cleaned = df.drop(columns=columns_to_drop)\n",
    "df_cleaned = df_cleaned.drop(columns=['GrowerYield'])\n",
    "\n",
    "# Check for any remaining missing values\n",
    "print(\"\\nMissing values after dropping columns:\")\n",
    "df_cleaned.isnull().sum()\n",
    "\n",
    "# Since there are no missing values after dropping the IFSC column, we can proceed directly.\n",
    "# Check for duplicate rows and remove them if any exist\n",
    "df_cleaned.drop_duplicates(inplace=True)\n",
    "print(\"\\nNumber of rows after removing duplicates:\", len(df_cleaned))\n"
   ]
  },
  {
   "cell_type": "code",
   "execution_count": null,
   "id": "b8baa632-a4ad-4f2e-ba0d-17b85d6e5a07",
   "metadata": {},
   "outputs": [],
   "source": [
    "df.columns.tolist()"
   ]
  },
  {
   "cell_type": "markdown",
   "id": "2441533f-3697-4969-b149-afb374667a16",
   "metadata": {},
   "source": [
    "# Step 4: VISUALIZATION\n",
    "#### Plot distributions of useful numerical features only, excluding those that could show negative company performance"
   ]
  },
  {
   "cell_type": "code",
   "execution_count": null,
   "id": "fc4693cd-2b79-4abd-aae5-5d376e72bcc6",
   "metadata": {},
   "outputs": [],
   "source": [
    "num_cols = df.select_dtypes(include=np.number).columns\n",
    "\n",
    "for col in num_cols:\n",
    "    unique_vals = df[col].nunique()\n",
    "    if unique_vals <= 2:\n",
    "        continue\n",
    "    if df[col].std() == 0:\n",
    "        continue\n",
    "    if df[col].max() - df[col].min() < 1:\n",
    "        continue\n",
    "    if df[col].skew() > 6 or df[col].skew() < -6:\n",
    "        continue\n",
    "    if df[col].mean() < 0:\n",
    "        continue\n",
    "\n",
    "    plt.figure(figsize=(8, 4))\n",
    "    sns.histplot(df[col], kde=True, color='#00bfa0')\n",
    "    plt.title(f\"Distribution of {col}\")\n",
    "    plt.xlabel(col)\n",
    "    plt.ylabel(\"Frequency\")\n",
    "    plt.grid(True)\n",
    "    plt.tight_layout()\n",
    "    plt.show()\n"
   ]
  },
  {
   "cell_type": "markdown",
   "id": "032a88aa-d948-43ff-8f0e-82deecb334fb",
   "metadata": {},
   "source": [
    "## Top 5 Banks of Growers"
   ]
  },
  {
   "cell_type": "code",
   "execution_count": null,
   "id": "03bd28ca-e96b-44dd-b352-ead54085400a",
   "metadata": {},
   "outputs": [],
   "source": [
    "\n",
    "df['Bank_Name'].value_counts().head(5).plot.pie(\n",
    "    autopct='%1.1f%%', \n",
    "    figsize=(6,6), \n",
    "    startangle=180, \n",
    "    shadow=True, \n",
    "    explode=[0.1, 0, 0, 0, 0], \n",
    "    colors=['#00bfa0', '#fdcce5', '#beb9db','#ffee65','#fd7f6f']\n",
    ")\n",
    "plt.title('Top 5 Banks of Growers')\n",
    "plt.ylabel('')\n",
    "plt.show()\n"
   ]
  },
  {
   "cell_type": "code",
   "execution_count": null,
   "id": "36f63bc1-f94a-4f87-8f85-f610885fd839",
   "metadata": {},
   "outputs": [],
   "source": [
    "yearly_supply = {\n",
    "    '2019': df['Sup2019'].sum(),\n",
    "    '2020': df['Sup2020'].sum(),\n",
    "    '2021': df['Sup2021'].sum(),\n",
    "    '2022': df['Sup2022'].sum(),\n",
    "    '2023': df['Sup2023'].sum()\n",
    "}\n",
    "\n",
    "plt.figure(figsize=(10, 5))\n",
    "plt.plot(list(yearly_supply.keys()), list(yearly_supply.values()), marker='o', linestyle='-', color='#00bfa0')\n",
    "plt.title('Total Sugar Supply Trend (2019–2023)', fontsize=16)\n",
    "plt.xlabel('Year', fontsize=12)\n",
    "plt.ylabel('Total Sugar Supplied (Tons)', fontsize=12)\n",
    "plt.grid(True)\n",
    "plt.tight_layout()\n",
    "plt.show()\n"
   ]
  },
  {
   "cell_type": "markdown",
   "id": "96f246e8-ab66-415e-b3cb-e711e743267f",
   "metadata": {},
   "source": [
    "### Total_Purchase_by_Village"
   ]
  },
  {
   "cell_type": "code",
   "execution_count": null,
   "id": "8338fc8b-6456-417b-9dc3-e70baf6d1087",
   "metadata": {},
   "outputs": [],
   "source": [
    "import matplotlib.pyplot as plt\n",
    "import seaborn as sns\n",
    "\n",
    "plt.figure(figsize=(24, 8))\n",
    "\n",
    "sns.barplot(y='Sup2023', x='Village_Name', data=df, errorbar=None, color='#00bfa0')\n",
    "\n",
    "plt.title('Total Cane Purchase by Village in 2023', fontsize=16)\n",
    "plt.xlabel(\"Village\", fontsize=12)\n",
    "plt.ylabel(\"Total Cane Purchased (in Tons)\", fontsize=12)\n",
    "\n",
    "plt.xticks(rotation=90, ha='right', fontsize=8)\n",
    "plt.tight_layout()\n",
    "\n",
    "plt.savefig('Total_Purchase_by_Village_BarPlot.png')\n",
    "plt.show()\n",
    "plt.close()\n"
   ]
  },
  {
   "cell_type": "markdown",
   "id": "abc1b1e3-c9fe-4952-bb52-a705089892c2",
   "metadata": {},
   "source": [
    "# Step : 5 Distribution Analysis and Outlier Detection with Box Plots\n",
    "#### We'll visualize key numerical features to find outliers"
   ]
  },
  {
   "cell_type": "code",
   "execution_count": null,
   "id": "f5b87f6d-9a64-42af-ad5d-5cda2a1129e8",
   "metadata": {},
   "outputs": [],
   "source": [
    "numerical_cols = ['Cult_Area', 'Cane_Area', 'PurchaseAmount', 'SurveyArea', 'Sup2023', 'Sup2022', 'Sup2021', 'Sup2020', 'Sup2019']\n",
    "\n",
    "fig, axes = plt.subplots(3, 3, figsize=(18, 15))\n",
    "axes = axes.flatten()\n",
    "\n",
    "for i, col in enumerate(numerical_cols):\n",
    "    sns.boxplot(y=df_cleaned[col], ax=axes[i], color='#00bfa0')\n",
    "    axes[i].set_title(f'Box Plot of {col}', fontsize=12)\n",
    "    axes[i].set_ylabel('')\n",
    "    axes[i].set_xlabel(col)\n",
    "\n",
    "plt.tight_layout()\n",
    "plt.suptitle('Box Plots for Outlier Detection', fontsize=20, y=1.02)\n",
    "plt.show()"
   ]
  },
  {
   "cell_type": "markdown",
   "id": "2299a9d8-2e90-4c5b-ac24-d693c9358599",
   "metadata": {},
   "source": [
    "### Handling Outliers\n",
    "##### Outliers need to be removed when they represent data errors (like typos or sensor malfunctions), distort statistical analyses and machine learning models by skewing results, or are logically impossible values in your context"
   ]
  },
  {
   "cell_type": "code",
   "execution_count": null,
   "id": "bc2511d5-0c7a-47bc-842e-63a0282bb0fb",
   "metadata": {},
   "outputs": [],
   "source": [
    "for col in ['PurchaseAmount', 'Cult_Area', 'Cane_Area', 'SurveyArea'] + [f'Sup{year}' for year in range(2019, 2024)]:\n",
    "    upper_bound = df_cleaned[col].quantile(0.99)\n",
    "    df_cleaned[col] = np.where(df_cleaned[col] > upper_bound, upper_bound, df_cleaned[col])\n",
    "\n",
    "print(\"\\nData after capping outliers:\")\n",
    "df_cleaned.describe()\n",
    "\n",
    "# 3.2.1 Box Plots After Outlier Handling\n",
    "# We now visualize the same features again to see the effect of capping the outliers.\n",
    "\n",
    "fig, axes = plt.subplots(3, 3, figsize=(18, 15))\n",
    "axes = axes.flatten()\n",
    "\n",
    "for i, col in enumerate(numerical_cols):\n",
    "    sns.boxplot(y=df_cleaned[col], ax=axes[i], color='#00bfa0')\n",
    "    axes[i].set_title(f'Box Plot of {col}', fontsize=12)\n",
    "    axes[i].set_ylabel('')\n",
    "    axes[i].set_xlabel(col)\n",
    "\n",
    "plt.tight_layout()\n",
    "plt.suptitle('Box Plots After Outlier Capping', fontsize=20, y=1.02)\n",
    "plt.show()"
   ]
  },
  {
   "cell_type": "markdown",
   "id": "8c2c7ad9-0a2d-4128-9ed5-8cb9e1f80e76",
   "metadata": {},
   "source": [
    "# Step :6 Skewness and Kurtosis Analysis\n",
    "#### We analyze these metrics to understand the shape of our data distribution.\n",
    "#### High skewness indicates a long tail, and high kurtosis indicates heavy tails (outliers).\n"
   ]
  },
  {
   "cell_type": "code",
   "execution_count": null,
   "id": "25ac183f-2fc3-4bf6-8d81-a917bbfaee73",
   "metadata": {},
   "outputs": [],
   "source": [
    "for col in numerical_cols:\n",
    "    print(f\"\\n{col}:\")\n",
    "    print(f\"  Skewness: {skew(df_cleaned[col]):.2f}\")\n",
    "    print(f\"  Kurtosis: {kurtosis(df_cleaned[col]):.2f}\")"
   ]
  },
  {
   "cell_type": "markdown",
   "id": "e8daf9af-cf3a-4d6c-8969-7d8af0d59490",
   "metadata": {},
   "source": [
    "# Step 7: Heatmap \n",
    "#### **Purpose**\n",
    "- A correlation heatmap helps to analyze the relationships between numerical features in a dataset. It provides a clear visual representation of how strongly features are associated with one another.\n",
    "- A strong correlation (positive or negative) might indicate redundancy or key influencing factors, which can be useful for feature selection or engineering.\n",
    "### Why this is important :\n",
    "- Detect multicollinearity between features\n",
    "- Identify predictors most associated with the target variable"
   ]
  },
  {
   "cell_type": "code",
   "execution_count": null,
   "id": "49ba315e-44a7-4f1e-8cd5-fd61ba5bbbec",
   "metadata": {},
   "outputs": [],
   "source": [
    "plt.figure(figsize=(12, 10))\n",
    "custom_cmap = sns.color_palette([\"#ffffff\", '#00bfa0'])\n",
    "sns.heatmap(df_cleaned[numerical_cols].corr(), annot=True, fmt=\".2f\")\n",
    "plt.title('Correlation Matrix of Key Numerical Features', fontsize=16)\n",
    "plt.show()"
   ]
  },
  {
   "cell_type": "markdown",
   "id": "52670acd-ab67-49ad-8736-55df383a3136",
   "metadata": {},
   "source": [
    "# Step 8 : Feature Engineering\n",
    "### Encoding Categorical Variables\n",
    "### Why this is important :\n",
    "- This technique creates binary columns for each category, allowing algorithms to interpret the data without assuming any ordinal relationship between categories.\n",
    "- One-hot encoding ensures that models can process categorical features effectively without introducing bias due to arbitrary numerical values."
   ]
  },
  {
   "cell_type": "code",
   "execution_count": null,
   "id": "9c595f0c-0227-4ec1-a828-808eb4443305",
   "metadata": {},
   "outputs": [],
   "source": [
    "categorical_cols = ['Mode_Name', 'Category']\n",
    "df_processed = pd.get_dummies(df_cleaned, columns=categorical_cols, drop_first=True)\n",
    "\n",
    "# Separate features (X) and target (y)\n",
    "target = 'Sup2023'\n",
    "numerical_features = [col for col in numerical_cols if col != target]\n",
    "X = df_processed.drop(columns=[target, 'Mem_Year'])\n",
    "y = df_processed[target]\n",
    "\n",
    "X_train, X_test, y_train, y_test = train_test_split(X, y, test_size=0.2, random_state=42)\n",
    "\n",
    "scaler = StandardScaler()\n",
    "\n",
    "X_train_scaled = X_train.copy()\n",
    "X_test_scaled = X_test.copy()\n",
    "\n",
    "X_train_scaled[numerical_features] = scaler.fit_transform(X_train_scaled[numerical_features])\n",
    "X_test_scaled[numerical_features] = scaler.transform(X_test_scaled[numerical_features])\n",
    "\n",
    "# Assign the scaled data back for the models\n",
    "X_train = X_train_scaled\n",
    "X_test = X_test_scaled\n",
    "\n",
    "print(\"\\nProcessed Data after Encoding and Scaling:\")\n",
    "print(X_train.head())\n"
   ]
  },
  {
   "cell_type": "markdown",
   "id": "630c262d-c4a8-4e29-b677-b13ad0c26117",
   "metadata": {},
   "source": [
    "# Step 9: Variance Inflation Factor\n",
    "### Multicollinearity Check using VIF (Variance Inflation Factor)\n",
    "- VIF measures the degree of multicollinearity among features in a dataset.\n",
    "- It quantifies how much the variance of a regression coefficient is inflated due to multicollinearity.\n",
    "#### **Interpretation**\n",
    "- **VIF = 1**: No multicollinearity.\n",
    "- **VIF < 5**: Acceptable multicollinearity.\n",
    "- **VIF > 10**: High multicollinearity, which might distort model predictions.p-values"
   ]
  },
  {
   "cell_type": "code",
   "execution_count": null,
   "id": "8b3643c9-3370-4cee-9fa6-0f664d46784e",
   "metadata": {},
   "outputs": [],
   "source": [
    "X_vif = df_processed.drop(columns=['Sup2023', 'Mem_Year']) # We drop the target and other non-feature columns\n",
    "\n",
    "vif_data = pd.DataFrame(\n",
    "vif_data[\"feature\"] = X_vif.columns\n",
    "vif_list = []\n",
    "for i in range(len(X_vif.columns)):\n",
    "    try:\n",
    "        vif_score = variance_inflation_factor(X_vif.values, i)\n",
    "        vif_list.append(vif_score)\n",
    "    except:\n",
    "        vif_list.append(np.inf)\n",
    "vif_data[\"VIF\"] = vif_list\n",
    "\n",
    "print(\"\\nVIF Scores:\")\n",
    "vif_data.sort_values(by='VIF', ascending=False)\n"
   ]
  },
  {
   "cell_type": "markdown",
   "id": "b88cd46d-574e-4186-9632-9162f6fe1672",
   "metadata": {},
   "source": [
    "# Srwp 10: Splitting dataset into training and testing sets\n",
    "### **Purpose** \n",
    "- To evaluate our machine learning model effectively, we split the dataset into **training** and **testing** subsets. \n",
    "- **Training Set**: Used to train the machine learning model.\n",
    "- **Testing Set**: Used to evaluate the model's performance on unseen data.\n",
    "### Why this is important :\n",
    "This step is crucial to prevent **overfitting**—a situation where the model performs well on the training data but poorly on new, unseen data. By keeping a portion of the data aside for testing, we ensure that our model generalizes well."
   ]
  },
  {
   "cell_type": "code",
   "execution_count": null,
   "id": "ad9a7e7f-45d1-43ad-96e3-f00b5eec5073",
   "metadata": {},
   "outputs": [],
   "source": [
    "target = 'Sup2023'\n",
    "features = df_processed.drop(columns=[target, 'Mem_Year'])\n",
    "X = features\n",
    "y = df_processed[target]\n",
    "X_train, X_test, y_train, y_test = train_test_split(X, y, test_size=0.2, random_state=42)\n",
    "\n",
    "# Initialize models\n",
    "lr_model = LinearRegression()\n",
    "knn_model = KNeighborsRegressor(n_neighbors=5)\n",
    "dt_model = DecisionTreeRegressor(random_state=42)\n",
    "rf_model = RandomForestRegressor(n_estimators=100, random_state=42)"
   ]
  },
  {
   "cell_type": "markdown",
   "id": "6aea29f5-2aac-46a6-ae03-d576e31b6c2e",
   "metadata": {},
   "source": [
    "# Step 11: Training and Evaluating Each Model Individually"
   ]
  },
  {
   "cell_type": "markdown",
   "id": "fdbc9e86-d6c5-4bc8-854f-b86bcff5d327",
   "metadata": {},
   "source": [
    "### Linear Regression: \n",
    "\n",
    "#### **Definition**\n",
    "- Linear Regression is a fundamental statistical and machine learning method used to model the relationship between dependent (target) and independent (predictor) variables.\n",
    "- It assumes a linear relationship between input features and the target variable."
   ]
  },
  {
   "cell_type": "code",
   "execution_count": null,
   "id": "c09f1f0c-3a0b-41f8-b5c5-8be2f7dd4865",
   "metadata": {},
   "outputs": [],
   "source": [
    "print(\"--- Linear Regression ---\")\n",
    "lr_model.fit(X_train, y_train)\n",
    "y_pred_lr = lr_model.predict(X_test)\n",
    "mse_lr = mean_squared_error(y_test, y_pred_lr)\n",
    "rmse_lr = np.sqrt(mse_lr)\n",
    "r2_lr = r2_score(y_test, y_pred_lr)\n",
    "print(f\"R-squared: {r2_lr:.4f} ({r2_lr*100:.2f}%)\")\n",
    "print(f\"RMSE: {rmse_lr:.4f}\")"
   ]
  },
  {
   "cell_type": "markdown",
   "id": "59ef7ac6-459f-4f3a-aedf-fbc374cf8e0e",
   "metadata": {},
   "source": [
    "### K-Nearest Neighbors (KNN) Regression\n",
    "\n",
    "#### **Definition**\n",
    "- KNN Regression is a non-parametric algorithm that predicts the target value for a data point based on the average (or weighted average) of its k nearest neighbors in the feature space.\n",
    "\n",
    "#### **How It Works**\n",
    "1. The algorithm calculates the distance (e.g., Euclidean, Manhattan) between the data point and all other points in the dataset.\n",
    "2. It identifies the k closest data points (neighbors).\n",
    "3. The target value is predicted as the average (or weighted average) of the target values of the k neighbors."
   ]
  },
  {
   "cell_type": "code",
   "execution_count": null,
   "id": "2311d584-40ae-4b9e-a927-8f569ef1032f",
   "metadata": {},
   "outputs": [],
   "source": [
    "# K-Nearest Neighbors\n",
    "print(\"\\n--- K-Nearest Neighbors ---\")\n",
    "knn_model.fit(X_train, y_train)\n",
    "y_pred_knn = knn_model.predict(X_test)\n",
    "mse_knn = mean_squared_error(y_test, y_pred_knn)\n",
    "rmse_knn = np.sqrt(mse_knn)\n",
    "r2_knn = r2_score(y_test, y_pred_knn)\n",
    "print(f\"R-squared: {r2_knn:.4f} ({r2_knn*100:.2f}%)\")\n",
    "print(f\"RMSE: {rmse_knn:.4f}\")\n"
   ]
  },
  {
   "cell_type": "markdown",
   "id": "44590bee-985a-42d2-864a-ba57d809f2bf",
   "metadata": {},
   "source": [
    "### Decision Tree Regressor\n",
    "\n",
    "#### **Definition**\n",
    "- A Decision Tree Regressor is a machine learning algorithm that uses a tree-like structure to predict continuous values based on input features.\n",
    "- It splits the data into subsets based on feature values, creating decision rules to minimize errors.\n",
    "\n",
    "#### **Key Features**\n",
    "- Works by dividing the feature space into smaller regions.\n",
    "- Predictions are made based on the average target value within each region (leaf)."
   ]
  },
  {
   "cell_type": "code",
   "execution_count": null,
   "id": "d083e09b-3298-451e-ac65-a7d9d6aa0ed0",
   "metadata": {},
   "outputs": [],
   "source": [
    "# Decision Tree\n",
    "print(\"\\n--- Decision Tree ---\")\n",
    "dt_model.fit(X_train, y_train)\n",
    "y_pred_dt = dt_model.predict(X_test)\n",
    "mse_dt = mean_squared_error(y_test, y_pred_dt)\n",
    "rmse_dt = np.sqrt(mse_dt)\n",
    "r2_dt = r2_score(y_test, y_pred_dt)\n",
    "print(f\"R-squared: {r2_dt:.4f} ({r2_dt*100:.2f}%)\")\n",
    "print(f\"RMSE: {rmse_dt:.4f}\")\n"
   ]
  },
  {
   "cell_type": "markdown",
   "id": "2aaedf7e-e6d1-4ded-9dbf-5aef09ed911c",
   "metadata": {},
   "source": [
    "### Random Forest Regressor\n",
    "\n",
    "#### **Definition**\n",
    "- A Random Forest Regressor is an ensemble learning algorithm that builds multiple decision trees during training and averages their predictions to improve accuracy and reduce overfitting.\n",
    "\n",
    "#### **Key Features**\n",
    "- **Robust to Overfitting**: Aggregating predictions from multiple trees reduces variance.\n",
    "- **Handles Non-Linearity**: Capable of modeling non-linear relationships effectively.\n",
    "- **Feature Importance**: Provides insights into the relative importance of features."
   ]
  },
  {
   "cell_type": "code",
   "execution_count": null,
   "id": "92489176-6680-49a1-af5d-211a5e0bcdb5",
   "metadata": {},
   "outputs": [],
   "source": [
    "# Random Forest\n",
    "print(\"\\n--- Random Forest ---\")\n",
    "rf_model.fit(X_train, y_train)\n",
    "y_pred_rf = rf_model.predict(X_test)\n",
    "mse_rf = mean_squared_error(y_test, y_pred_rf)\n",
    "rmse_rf = np.sqrt(mse_rf)\n",
    "r2_rf = r2_score(y_test, y_pred_rf)\n",
    "print(f\"R-squared: {r2_rf:.4f} ({r2_rf*100:.2f}%)\")\n",
    "print(f\"RMSE: {rmse_rf:.4f}\")\n",
    "\n"
   ]
  },
  {
   "cell_type": "code",
   "execution_count": null,
   "id": "0ecd3242-fb6f-4f5b-b841-3b6bcc9f16be",
   "metadata": {},
   "outputs": [],
   "source": [
    "pip install pandas numpy matplotlib seaborn scikit-learn statsmodels"
   ]
  },
  {
   "cell_type": "code",
   "execution_count": null,
   "id": "a0148426-6c36-4931-86da-ba1ec3b6cba2",
   "metadata": {},
   "outputs": [],
   "source": []
  },
  {
   "cell_type": "markdown",
   "id": "e665132c-6255-4c8e-a67e-81cb462374c6",
   "metadata": {},
   "source": [
    "# Step 14: Final Prediction on a Sample Data Point\n"
   ]
  },
  {
   "cell_type": "code",
   "execution_count": 262,
   "id": "b9d9c64e-c537-4675-8bb1-3d2370574809",
   "metadata": {},
   "outputs": [
    {
     "data": {
      "image/png": "[encoded data removed]",
      "text/plain": [
       "<Figure size 400x300 with 1 Axes>"
      ]
     },
     "metadata": {},
     "output_type": "display_data"
    },
    {
     "data": {
      "image/png": "[encoded data removed]",
      "text/plain": [
       "<Figure size 400x300 with 1 Axes>"
      ]
     },
     "metadata": {},
     "output_type": "display_data"
    },
    {
     "data": {
      "image/png": "[encoded data removed]",
      "text/plain": [
       "<Figure size 400x300 with 1 Axes>"
      ]
     },
     "metadata": {},
     "output_type": "display_data"
    },
    {
     "data": {
      "image/png": "[encoded data removed]",
      "text/plain": [
       "<Figure size 400x300 with 1 Axes>"
      ]
     },
     "metadata": {},
     "output_type": "display_data"
    }
   ],
   "source": [
    "import matplotlib.pyplot as plt\n",
    "\n",
    "model_scores = {\n",
    "    \"Linear Regression\": 0.74,\n",
    "    \"Decision Tree\": 0.69,\n",
    "    \"Random Forest\": 0.64,\n",
    "    \"KNN Regressor\": 0.81\n",
    "}\n",
    "\n",
    "for model, score in model_scores.items():\n",
    "    plt.figure(figsize=(4, 3))\n",
    "    plt.bar(model, score, color='#00bfa0')\n",
    "    plt.ylim(0, 1)\n",
    "    plt.title(f\"{model} Accuracy\")\n",
    "    plt.ylabel(\"R² Score\")\n",
    "    plt.tight_layout()\n",
    "    plt.show()"
   ]
  },
  {
   "cell_type": "code",
   "execution_count": 263,
   "id": "f29dbaf3-87f6-44ed-a41c-7ad7905ef8f1",
   "metadata": {},
   "outputs": [
    {
     "name": "stdout",
     "output_type": "stream",
     "text": [
      "Prediction for a sample grower:\n",
      "The predicted sugar cane supply (Sup2023) for the sample grower is: 108.32 tons\n"
     ]
    }
   ],
   "source": [
    "\n",
    "final_model = rf_model\n",
    "\n",
    "# Create a sample data point for a new grower to predict for 2023\n",
    "sample_data = pd.DataFrame([{\n",
    "    'Cult_Area': 1.5,\n",
    "    'Cane_Area': 1.2,\n",
    "    'PurchaseAmount': 2000,\n",
    "    'SurveyArea': 1.3,\n",
    "    'Sup2022': 5000,\n",
    "    'Sup2021': 4800,\n",
    "    'Sup2020': 4500,\n",
    "    'Sup2019': 4200,\n",
    "    'Mode_Name_B Trolly': 1,\n",
    "    'Mode_Name_S Trolly': 0,\n",
    "    'Category_Non-Grower': 0,\n",
    "    'Category_Normal Grower': 1\n",
    "}])\n",
    "\n",
    "for col in X.columns:\n",
    "    if col not in sample_data.columns:\n",
    "        sample_data[col] = 0\n",
    "\n",
    "sample_data = sample_data[X.columns]\n",
    "\n",
    "sample_data_processed = sample_data.copy()\n",
    "sample_data_processed[numerical_features] = scaler.transform(sample_data_processed[numerical_features])\n",
    "\n",
    "\n",
    "predicted_supply = final_model.predict(sample_data_processed)\n",
    "\n",
    "print(\"Prediction for a sample grower:\")\n",
    "print(f\"The predicted sugar cane supply (Sup2023) for the sample grower is: {predicted_supply[0]:.2f} tons\")\n",
    "\n"
   ]
  },
  {
   "cell_type": "markdown",
   "id": "9a103032-9092-482e-ba4e-2b3f00677d7f",
   "metadata": {},
   "source": [
    "## Predicting for the next year (Sup2024)"
   ]
  },
  {
   "cell_type": "code",
   "execution_count": 260,
   "id": "40f5e03b-06c8-43ce-83f4-371cde6eb696",
   "metadata": {},
   "outputs": [
    {
     "name": "stdout",
     "output_type": "stream",
     "text": [
      "\n",
      "Prediction for the next year:\n",
      "The predicted sugar cane supply (Sup2024) for the sample grower is: 124.05 tons\n"
     ]
    }
   ],
   "source": [
    "\n",
    "sample_data_2024 = pd.DataFrame([{\n",
    "    'Cult_Area': 1.5,\n",
    "    'Cane_Area': 1.2,\n",
    "    'PurchaseAmount': 2000,\n",
    "    'SurveyArea': 1.3,\n",
    "    'Sup2023': predicted_supply[0],  \n",
    "    'Sup2022': 5000,\n",
    "    'Sup2021': 4800,\n",
    "    'Sup2020': 4500,\n",
    "    'Mode_Name_B Trolly': 1,\n",
    "    'Mode_Name_S Trolly': 0,\n",
    "    'Category_Non-Grower': 0,\n",
    "    'Category_Normal Grower': 1\n",
    "}])\n",
    "\n",
    "for col in X.columns:\n",
    "    if col not in sample_data_2024.columns:\n",
    "        sample_data_2024[col] = 0\n",
    "sample_data_2024 = sample_data_2024[X.columns]\n",
    "\n",
    "sample_data_2024_processed = sample_data_2024.copy()\n",
    "sample_data_2024_processed[numerical_features] = scaler.transform(sample_data_2024_processed[numerical_features])\n",
    "\n",
    "predicted_supply_2024 = final_model.predict(sample_data_2024_processed)\n",
    "\n",
    "print(\"\\nPrediction for the next year:\")\n",
    "print(f\"The predicted sugar cane supply (Sup2024) for the sample grower is: {predicted_supply_2024[0]:.2f} tons\")\n"
   ]
  },
  {
   "cell_type": "code",
   "execution_count": null,
   "id": "1d4f982a-222c-4d46-bbb9-edbecaef2bb8",
   "metadata": {},
   "outputs": [],
   "source": []
  },
  {
   "cell_type": "code",
   "execution_count": null,
   "id": "477c1a09-fea7-437e-9813-cac6dc14bcf5",
   "metadata": {},
   "outputs": [],
   "source": []
  },
  {
   "cell_type": "code",
   "execution_count": null,
   "id": "20379baf-d81e-415b-8a13-707b2246bd4d",
   "metadata": {},
   "outputs": [],
   "source": []
  },
  {
   "cell_type": "code",
   "execution_count": null,
   "id": "631ce1e3-b087-428f-a9ff-dd48a4333ad6",
   "metadata": {},
   "outputs": [],
   "source": []
  },
  {
   "cell_type": "code",
   "execution_count": null,
   "id": "6a9acb51-d563-42e7-9b05-ce5e0598e23c",
   "metadata": {},
   "outputs": [],
   "source": []
  },
  {
   "cell_type": "code",
   "execution_count": null,
   "id": "3b86a335-13d3-41a2-bb72-ab4fdaec8e99",
   "metadata": {},
   "outputs": [],
   "source": []
  }
 ],
 "metadata": {
  "kernelspec": {
   "display_name": "Python 3 (ipykernel)",
   "language": "python",
   "name": "python3"
  },
  "language_info": {
   "codemirror_mode": {
    "name": "ipython",
    "version": 3
   },
   "file_extension": ".py",
   "mimetype": "text/x-python",
   "name": "python",
   "nbconvert_exporter": "python",
   "pygments_lexer": "ipython3",
   "version": "3.13.3"
  }
 },
 "nbformat": 4,
 "nbformat_minor": 5
}
